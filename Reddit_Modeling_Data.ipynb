{
 "cells": [
  {
   "cell_type": "markdown",
   "metadata": {},
   "source": [
    "## Subreddit Identification Model##"
   ]
  },
  {
   "cell_type": "markdown",
   "metadata": {},
   "source": [
    "#### Note: The CSV file was previously created in the 'Reddit_Creating_CSV' notebook\n",
    "\n",
    "The goal of this project is to create a model that can take in a reddit post, and accurately categorize the subreddit it belongs to. \n",
    "\n",
    "The two subreddits I will be using for this are Cinematography, and Photography. These are broad enough to gather a large variety of information, have some intersecting topics, but are unique enough that we should be able to determine with a level of certainty which subreddit a post originated from. We will also be taking a look at what kinds of posts are most difficult to classify."
   ]
  },
  {
   "cell_type": "code",
   "execution_count": 1,
   "metadata": {},
   "outputs": [],
   "source": [
    "import pandas as pd\n",
    "import numpy as np\n",
    "import seaborn as sns\n",
    "import matplotlib.pyplot as plt\n",
    "\n",
    "from sklearn.model_selection import train_test_split, cross_val_score, GridSearchCV, StratifiedKFold\n",
    "from sklearn.feature_extraction.text import CountVectorizer\n",
    "\n",
    "from sklearn.ensemble import BaggingClassifier, RandomForestClassifier, ExtraTreesClassifier\n",
    "from sklearn.metrics import confusion_matrix\n",
    "from sklearn.svm import LinearSVC, SVC\n",
    "from sklearn.preprocessing import StandardScaler\n",
    "\n",
    "from nltk.sentiment.vader import SentimentIntensityAnalyzer\n",
    "from nltk import word_tokenize\n",
    "from nltk.stem import WordNetLemmatizer"
   ]
  },
  {
   "cell_type": "code",
   "execution_count": 2,
   "metadata": {},
   "outputs": [],
   "source": [
    "import nltk\n",
    "#prompted from error code during model fitting process  "
   ]
  },
  {
   "cell_type": "code",
   "execution_count": 3,
   "metadata": {},
   "outputs": [
    {
     "data": {
      "text/html": [
       "<div>\n",
       "<style scoped>\n",
       "    .dataframe tbody tr th:only-of-type {\n",
       "        vertical-align: middle;\n",
       "    }\n",
       "\n",
       "    .dataframe tbody tr th {\n",
       "        vertical-align: top;\n",
       "    }\n",
       "\n",
       "    .dataframe thead th {\n",
       "        text-align: right;\n",
       "    }\n",
       "</style>\n",
       "<table border=\"1\" class=\"dataframe\">\n",
       "  <thead>\n",
       "    <tr style=\"text-align: right;\">\n",
       "      <th></th>\n",
       "      <th>title</th>\n",
       "      <th>score</th>\n",
       "      <th>id</th>\n",
       "      <th>url</th>\n",
       "      <th>comms_num</th>\n",
       "      <th>created</th>\n",
       "      <th>body</th>\n",
       "      <th>subreddit</th>\n",
       "    </tr>\n",
       "  </thead>\n",
       "  <tbody>\n",
       "    <tr>\n",
       "      <th>0</th>\n",
       "      <td>Megathread Monday October 19 2020: There are n...</td>\n",
       "      <td>2</td>\n",
       "      <td>jdzmm0</td>\n",
       "      <td>https://www.reddit.com/r/cinematography/commen...</td>\n",
       "      <td>3</td>\n",
       "      <td>1.603134e+09</td>\n",
       "      <td>Ask your questions, no matter how big or small...</td>\n",
       "      <td>Cinematography</td>\n",
       "    </tr>\n",
       "    <tr>\n",
       "      <th>1</th>\n",
       "      <td>Our 2 person Director/DP team (plus a helicopt...</td>\n",
       "      <td>735</td>\n",
       "      <td>je4tlf</td>\n",
       "      <td>https://www.reddit.com/gallery/je4tlf</td>\n",
       "      <td>84</td>\n",
       "      <td>1.603153e+09</td>\n",
       "      <td>NaN</td>\n",
       "      <td>Cinematography</td>\n",
       "    </tr>\n",
       "    <tr>\n",
       "      <th>2</th>\n",
       "      <td>the way they shot this is AMAZING. 😳😳😳 I'm pos...</td>\n",
       "      <td>13</td>\n",
       "      <td>jediiz</td>\n",
       "      <td>https://v.redd.it/krk601q7y4u51</td>\n",
       "      <td>4</td>\n",
       "      <td>1.603179e+09</td>\n",
       "      <td>NaN</td>\n",
       "      <td>Cinematography</td>\n",
       "    </tr>\n",
       "    <tr>\n",
       "      <th>3</th>\n",
       "      <td>Tried some things out with a practical lens test</td>\n",
       "      <td>2</td>\n",
       "      <td>jehwkz</td>\n",
       "      <td>https://www.reddit.com/gallery/jehwkz</td>\n",
       "      <td>1</td>\n",
       "      <td>1.603194e+09</td>\n",
       "      <td>NaN</td>\n",
       "      <td>Cinematography</td>\n",
       "    </tr>\n",
       "    <tr>\n",
       "      <th>4</th>\n",
       "      <td>Went for a vintage look with this music video ...</td>\n",
       "      <td>5</td>\n",
       "      <td>jeb6lf</td>\n",
       "      <td>https://youtu.be/gwM_SbjD_Ho</td>\n",
       "      <td>2</td>\n",
       "      <td>1.603171e+09</td>\n",
       "      <td>NaN</td>\n",
       "      <td>Cinematography</td>\n",
       "    </tr>\n",
       "  </tbody>\n",
       "</table>\n",
       "</div>"
      ],
      "text/plain": [
       "                                               title  score      id  \\\n",
       "0  Megathread Monday October 19 2020: There are n...      2  jdzmm0   \n",
       "1  Our 2 person Director/DP team (plus a helicopt...    735  je4tlf   \n",
       "2  the way they shot this is AMAZING. 😳😳😳 I'm pos...     13  jediiz   \n",
       "3   Tried some things out with a practical lens test      2  jehwkz   \n",
       "4  Went for a vintage look with this music video ...      5  jeb6lf   \n",
       "\n",
       "                                                 url  comms_num       created  \\\n",
       "0  https://www.reddit.com/r/cinematography/commen...          3  1.603134e+09   \n",
       "1              https://www.reddit.com/gallery/je4tlf         84  1.603153e+09   \n",
       "2                    https://v.redd.it/krk601q7y4u51          4  1.603179e+09   \n",
       "3              https://www.reddit.com/gallery/jehwkz          1  1.603194e+09   \n",
       "4                       https://youtu.be/gwM_SbjD_Ho          2  1.603171e+09   \n",
       "\n",
       "                                                body       subreddit  \n",
       "0  Ask your questions, no matter how big or small...  Cinematography  \n",
       "1                                                NaN  Cinematography  \n",
       "2                                                NaN  Cinematography  \n",
       "3                                                NaN  Cinematography  \n",
       "4                                                NaN  Cinematography  "
      ]
     },
     "execution_count": 3,
     "metadata": {},
     "output_type": "execute_result"
    }
   ],
   "source": [
    "#Read in the DataFrame:\n",
    "\n",
    "reddit = pd.read_csv('cine_photo.csv')\n",
    "reddit.head()"
   ]
  },
  {
   "cell_type": "markdown",
   "metadata": {},
   "source": [
    "### Data cleaning"
   ]
  },
  {
   "cell_type": "code",
   "execution_count": 5,
   "metadata": {},
   "outputs": [
    {
     "data": {
      "text/plain": [
       "title          0\n",
       "score          0\n",
       "id             0\n",
       "url            0\n",
       "comms_num      0\n",
       "created        0\n",
       "body         526\n",
       "subreddit      0\n",
       "dtype: int64"
      ]
     },
     "execution_count": 5,
     "metadata": {},
     "output_type": "execute_result"
    }
   ],
   "source": [
    "reddit.isnull().sum()"
   ]
  },
  {
   "cell_type": "markdown",
   "metadata": {},
   "source": [
    "These subreddits rely on visuals, and because of that some posts have a title, but no body test. I an going to combine the title and body columns into one text column to use for my analysis, so I do not have to drop any rows."
   ]
  },
  {
   "cell_type": "code",
   "execution_count": 4,
   "metadata": {},
   "outputs": [],
   "source": [
    "reddit['body'] = reddit['body'].fillna(' ')"
   ]
  },
  {
   "cell_type": "code",
   "execution_count": 5,
   "metadata": {},
   "outputs": [],
   "source": [
    "reddit['text'] = reddit['title'] + ' ' + reddit['body']"
   ]
  },
  {
   "cell_type": "code",
   "execution_count": 8,
   "metadata": {},
   "outputs": [
    {
     "data": {
      "text/html": [
       "<div>\n",
       "<style scoped>\n",
       "    .dataframe tbody tr th:only-of-type {\n",
       "        vertical-align: middle;\n",
       "    }\n",
       "\n",
       "    .dataframe tbody tr th {\n",
       "        vertical-align: top;\n",
       "    }\n",
       "\n",
       "    .dataframe thead th {\n",
       "        text-align: right;\n",
       "    }\n",
       "</style>\n",
       "<table border=\"1\" class=\"dataframe\">\n",
       "  <thead>\n",
       "    <tr style=\"text-align: right;\">\n",
       "      <th></th>\n",
       "      <th>title</th>\n",
       "      <th>score</th>\n",
       "      <th>id</th>\n",
       "      <th>url</th>\n",
       "      <th>comms_num</th>\n",
       "      <th>created</th>\n",
       "      <th>body</th>\n",
       "      <th>subreddit</th>\n",
       "      <th>text</th>\n",
       "    </tr>\n",
       "  </thead>\n",
       "  <tbody>\n",
       "    <tr>\n",
       "      <th>0</th>\n",
       "      <td>Megathread Monday October 19 2020: There are n...</td>\n",
       "      <td>2</td>\n",
       "      <td>jdzmm0</td>\n",
       "      <td>https://www.reddit.com/r/cinematography/commen...</td>\n",
       "      <td>3</td>\n",
       "      <td>1.603134e+09</td>\n",
       "      <td>Ask your questions, no matter how big or small...</td>\n",
       "      <td>Cinematography</td>\n",
       "      <td>Megathread Monday October 19 2020: There are n...</td>\n",
       "    </tr>\n",
       "    <tr>\n",
       "      <th>1</th>\n",
       "      <td>Our 2 person Director/DP team (plus a helicopt...</td>\n",
       "      <td>735</td>\n",
       "      <td>je4tlf</td>\n",
       "      <td>https://www.reddit.com/gallery/je4tlf</td>\n",
       "      <td>84</td>\n",
       "      <td>1.603153e+09</td>\n",
       "      <td></td>\n",
       "      <td>Cinematography</td>\n",
       "      <td>Our 2 person Director/DP team (plus a helicopt...</td>\n",
       "    </tr>\n",
       "    <tr>\n",
       "      <th>2</th>\n",
       "      <td>the way they shot this is AMAZING. 😳😳😳 I'm pos...</td>\n",
       "      <td>13</td>\n",
       "      <td>jediiz</td>\n",
       "      <td>https://v.redd.it/krk601q7y4u51</td>\n",
       "      <td>4</td>\n",
       "      <td>1.603179e+09</td>\n",
       "      <td></td>\n",
       "      <td>Cinematography</td>\n",
       "      <td>the way they shot this is AMAZING. 😳😳😳 I'm pos...</td>\n",
       "    </tr>\n",
       "    <tr>\n",
       "      <th>3</th>\n",
       "      <td>Tried some things out with a practical lens test</td>\n",
       "      <td>2</td>\n",
       "      <td>jehwkz</td>\n",
       "      <td>https://www.reddit.com/gallery/jehwkz</td>\n",
       "      <td>1</td>\n",
       "      <td>1.603194e+09</td>\n",
       "      <td></td>\n",
       "      <td>Cinematography</td>\n",
       "      <td>Tried some things out with a practical lens te...</td>\n",
       "    </tr>\n",
       "    <tr>\n",
       "      <th>4</th>\n",
       "      <td>Went for a vintage look with this music video ...</td>\n",
       "      <td>5</td>\n",
       "      <td>jeb6lf</td>\n",
       "      <td>https://youtu.be/gwM_SbjD_Ho</td>\n",
       "      <td>2</td>\n",
       "      <td>1.603171e+09</td>\n",
       "      <td></td>\n",
       "      <td>Cinematography</td>\n",
       "      <td>Went for a vintage look with this music video ...</td>\n",
       "    </tr>\n",
       "  </tbody>\n",
       "</table>\n",
       "</div>"
      ],
      "text/plain": [
       "                                               title  score      id  \\\n",
       "0  Megathread Monday October 19 2020: There are n...      2  jdzmm0   \n",
       "1  Our 2 person Director/DP team (plus a helicopt...    735  je4tlf   \n",
       "2  the way they shot this is AMAZING. 😳😳😳 I'm pos...     13  jediiz   \n",
       "3   Tried some things out with a practical lens test      2  jehwkz   \n",
       "4  Went for a vintage look with this music video ...      5  jeb6lf   \n",
       "\n",
       "                                                 url  comms_num       created  \\\n",
       "0  https://www.reddit.com/r/cinematography/commen...          3  1.603134e+09   \n",
       "1              https://www.reddit.com/gallery/je4tlf         84  1.603153e+09   \n",
       "2                    https://v.redd.it/krk601q7y4u51          4  1.603179e+09   \n",
       "3              https://www.reddit.com/gallery/jehwkz          1  1.603194e+09   \n",
       "4                       https://youtu.be/gwM_SbjD_Ho          2  1.603171e+09   \n",
       "\n",
       "                                                body       subreddit  \\\n",
       "0  Ask your questions, no matter how big or small...  Cinematography   \n",
       "1                                                     Cinematography   \n",
       "2                                                     Cinematography   \n",
       "3                                                     Cinematography   \n",
       "4                                                     Cinematography   \n",
       "\n",
       "                                                text  \n",
       "0  Megathread Monday October 19 2020: There are n...  \n",
       "1  Our 2 person Director/DP team (plus a helicopt...  \n",
       "2  the way they shot this is AMAZING. 😳😳😳 I'm pos...  \n",
       "3  Tried some things out with a practical lens te...  \n",
       "4  Went for a vintage look with this music video ...  "
      ]
     },
     "execution_count": 8,
     "metadata": {},
     "output_type": "execute_result"
    }
   ],
   "source": [
    "reddit.head()"
   ]
  },
  {
   "cell_type": "code",
   "execution_count": 6,
   "metadata": {},
   "outputs": [],
   "source": [
    "reddit = reddit.drop(columns = ['title', 'id', 'url',\n",
    "                                  'created', 'body'])"
   ]
  },
  {
   "cell_type": "code",
   "execution_count": 7,
   "metadata": {},
   "outputs": [
    {
     "data": {
      "text/html": [
       "<div>\n",
       "<style scoped>\n",
       "    .dataframe tbody tr th:only-of-type {\n",
       "        vertical-align: middle;\n",
       "    }\n",
       "\n",
       "    .dataframe tbody tr th {\n",
       "        vertical-align: top;\n",
       "    }\n",
       "\n",
       "    .dataframe thead th {\n",
       "        text-align: right;\n",
       "    }\n",
       "</style>\n",
       "<table border=\"1\" class=\"dataframe\">\n",
       "  <thead>\n",
       "    <tr style=\"text-align: right;\">\n",
       "      <th></th>\n",
       "      <th>score</th>\n",
       "      <th>comms_num</th>\n",
       "      <th>subreddit</th>\n",
       "      <th>text</th>\n",
       "    </tr>\n",
       "  </thead>\n",
       "  <tbody>\n",
       "    <tr>\n",
       "      <th>0</th>\n",
       "      <td>2</td>\n",
       "      <td>3</td>\n",
       "      <td>Cinematography</td>\n",
       "      <td>Megathread Monday October 19 2020: There are n...</td>\n",
       "    </tr>\n",
       "    <tr>\n",
       "      <th>1</th>\n",
       "      <td>735</td>\n",
       "      <td>84</td>\n",
       "      <td>Cinematography</td>\n",
       "      <td>Our 2 person Director/DP team (plus a helicopt...</td>\n",
       "    </tr>\n",
       "    <tr>\n",
       "      <th>2</th>\n",
       "      <td>13</td>\n",
       "      <td>4</td>\n",
       "      <td>Cinematography</td>\n",
       "      <td>the way they shot this is AMAZING. 😳😳😳 I'm pos...</td>\n",
       "    </tr>\n",
       "    <tr>\n",
       "      <th>3</th>\n",
       "      <td>2</td>\n",
       "      <td>1</td>\n",
       "      <td>Cinematography</td>\n",
       "      <td>Tried some things out with a practical lens te...</td>\n",
       "    </tr>\n",
       "    <tr>\n",
       "      <th>4</th>\n",
       "      <td>5</td>\n",
       "      <td>2</td>\n",
       "      <td>Cinematography</td>\n",
       "      <td>Went for a vintage look with this music video ...</td>\n",
       "    </tr>\n",
       "  </tbody>\n",
       "</table>\n",
       "</div>"
      ],
      "text/plain": [
       "   score  comms_num       subreddit  \\\n",
       "0      2          3  Cinematography   \n",
       "1    735         84  Cinematography   \n",
       "2     13          4  Cinematography   \n",
       "3      2          1  Cinematography   \n",
       "4      5          2  Cinematography   \n",
       "\n",
       "                                                text  \n",
       "0  Megathread Monday October 19 2020: There are n...  \n",
       "1  Our 2 person Director/DP team (plus a helicopt...  \n",
       "2  the way they shot this is AMAZING. 😳😳😳 I'm pos...  \n",
       "3  Tried some things out with a practical lens te...  \n",
       "4  Went for a vintage look with this music video ...  "
      ]
     },
     "execution_count": 7,
     "metadata": {},
     "output_type": "execute_result"
    }
   ],
   "source": [
    "reddit.head()"
   ]
  },
  {
   "cell_type": "code",
   "execution_count": 8,
   "metadata": {},
   "outputs": [],
   "source": [
    "#binarize the subreddit column\n",
    "\n",
    "reddit['subreddit'] = reddit['subreddit'].map({'Photography': 0, 'Cinematography': 1})"
   ]
  },
  {
   "cell_type": "code",
   "execution_count": 22,
   "metadata": {},
   "outputs": [],
   "source": [
    "#removing punctuation before using cvec\n",
    "\n",
    "reddit['text'] = reddit['text'].str.replace('\\d+', '') # for digits\n",
    "reddit['text'] = reddit['text'].str.replace(r'(\\b\\w{1,2}\\b)', '') # for words\n",
    "reddit['text'] = reddit['text'].str.replace('[^\\w\\s]', '') # for punctuation \n",
    "\n",
    "#https://stackoverflow.com/questions/47423854/sklearn-adding-lemmatizer-to-countvectorizer"
   ]
  },
  {
   "cell_type": "markdown",
   "metadata": {},
   "source": [
    "### Data visualizations"
   ]
  },
  {
   "cell_type": "code",
   "execution_count": 23,
   "metadata": {},
   "outputs": [],
   "source": [
    "cine = reddit[reddit['subreddit'] == 1]\n",
    "photo = reddit[reddit['subreddit'] == 0]"
   ]
  },
  {
   "cell_type": "code",
   "execution_count": 20,
   "metadata": {},
   "outputs": [
    {
     "data": {
      "text/html": [
       "<div>\n",
       "<style scoped>\n",
       "    .dataframe tbody tr th:only-of-type {\n",
       "        vertical-align: middle;\n",
       "    }\n",
       "\n",
       "    .dataframe tbody tr th {\n",
       "        vertical-align: top;\n",
       "    }\n",
       "\n",
       "    .dataframe thead th {\n",
       "        text-align: right;\n",
       "    }\n",
       "</style>\n",
       "<table border=\"1\" class=\"dataframe\">\n",
       "  <thead>\n",
       "    <tr style=\"text-align: right;\">\n",
       "      <th></th>\n",
       "      <th>score</th>\n",
       "      <th>comms_num</th>\n",
       "      <th>subreddit</th>\n",
       "      <th>text</th>\n",
       "    </tr>\n",
       "  </thead>\n",
       "  <tbody>\n",
       "    <tr>\n",
       "      <th>981</th>\n",
       "      <td>120</td>\n",
       "      <td>44</td>\n",
       "      <td>0</td>\n",
       "      <td>Announcement Official photography Discord Serv...</td>\n",
       "    </tr>\n",
       "    <tr>\n",
       "      <th>982</th>\n",
       "      <td>24</td>\n",
       "      <td>215</td>\n",
       "      <td>0</td>\n",
       "      <td>Official Question Thread Ask photography anyth...</td>\n",
       "    </tr>\n",
       "    <tr>\n",
       "      <th>983</th>\n",
       "      <td>530</td>\n",
       "      <td>245</td>\n",
       "      <td>0</td>\n",
       "      <td>Lightroom Classic  released with interesting i...</td>\n",
       "    </tr>\n",
       "    <tr>\n",
       "      <th>984</th>\n",
       "      <td>6</td>\n",
       "      <td>3</td>\n",
       "      <td>0</td>\n",
       "      <td>Adobe MAX starts tomorrow and  completely free...</td>\n",
       "    </tr>\n",
       "    <tr>\n",
       "      <th>985</th>\n",
       "      <td>14</td>\n",
       "      <td>4</td>\n",
       "      <td>0</td>\n",
       "      <td>Interview with Photography Legend Pete Souza J...</td>\n",
       "    </tr>\n",
       "  </tbody>\n",
       "</table>\n",
       "</div>"
      ],
      "text/plain": [
       "     score  comms_num  subreddit  \\\n",
       "981    120         44          0   \n",
       "982     24        215          0   \n",
       "983    530        245          0   \n",
       "984      6          3          0   \n",
       "985     14          4          0   \n",
       "\n",
       "                                                  text  \n",
       "981  Announcement Official photography Discord Serv...  \n",
       "982  Official Question Thread Ask photography anyth...  \n",
       "983  Lightroom Classic  released with interesting i...  \n",
       "984  Adobe MAX starts tomorrow and  completely free...  \n",
       "985  Interview with Photography Legend Pete Souza J...  "
      ]
     },
     "execution_count": 20,
     "metadata": {},
     "output_type": "execute_result"
    }
   ],
   "source": [
    "photo.head()"
   ]
  },
  {
   "cell_type": "code",
   "execution_count": 11,
   "metadata": {
    "scrolled": true
   },
   "outputs": [
    {
     "name": "stdout",
     "output_type": "stream",
     "text": [
      "mean Cinematography score:  49.20183486238532\n",
      "mean Photography score:  160.0631067961165\n",
      "mean Cinematography comment number:  8.234454638124364\n",
      "mean Photography comment number:  62.470873786407765\n",
      "Cinematography comment number sum:  8078\n",
      "Photography comment number sum:  12869\n"
     ]
    }
   ],
   "source": [
    "print('mean Cinematography score: ', cine.score.mean())\n",
    "print('mean Photography score: ', photo.score.mean())\n",
    "print('mean Cinematography comment number: ', cine.comms_num.mean())\n",
    "print('mean Photography comment number: ', photo.comms_num.mean())\n",
    "print('Cinematography comment number sum: ', cine.comms_num.sum())\n",
    "print('Photography comment number sum: ', photo.comms_num.sum())\n",
    "\n",
    "#Cinematography members: 171k\n",
    "#Photography members: 3.5m"
   ]
  },
  {
   "cell_type": "code",
   "execution_count": 12,
   "metadata": {},
   "outputs": [
    {
     "data": {
      "image/png": "[encoded data removed]",
      "text/plain": [
       "<Figure size 432x288 with 1 Axes>"
      ]
     },
     "metadata": {
      "needs_background": "light"
     },
     "output_type": "display_data"
    }
   ],
   "source": [
    "#hist of scores for photo/cine\n",
    "\n",
    "sns.distplot(cine['score'], color='darkcyan', bins=20, kde=False);\n",
    "sns.distplot(photo['score'], color='m', bins=20, kde=False);"
   ]
  },
  {
   "cell_type": "code",
   "execution_count": 24,
   "metadata": {
    "scrolled": true
   },
   "outputs": [
    {
     "data": {
      "image/png": "[encoded data removed]",
      "text/plain": [
       "<Figure size 432x288 with 1 Axes>"
      ]
     },
     "metadata": {
      "needs_background": "light"
     },
     "output_type": "display_data"
    }
   ],
   "source": [
    "#Top words for cine subreddit:\n",
    "\n",
    "cvec = CountVectorizer(stop_words = 'english')\n",
    "cvec.fit(cine['text'])\n",
    "cine_cv = cvec.transform(cine['text'])\n",
    "\n",
    "cine_df = pd.DataFrame(cine_cv.todense(), \n",
    "                          columns=cvec.get_feature_names())\n",
    "\n",
    "cine_df.sum().sort_values(ascending = False).head(10).plot(kind = 'barh');"
   ]
  },
  {
   "cell_type": "code",
   "execution_count": 25,
   "metadata": {
    "scrolled": true
   },
   "outputs": [
    {
     "data": {
      "image/png": "[encoded data removed]",
      "text/plain": [
       "<Figure size 432x288 with 1 Axes>"
      ]
     },
     "metadata": {
      "needs_background": "light"
     },
     "output_type": "display_data"
    }
   ],
   "source": [
    "#Top words for photo subreddit:\n",
    "\n",
    "cvec = CountVectorizer(stop_words = 'english')\n",
    "cvec.fit(photo['text'])\n",
    "photo_cv = cvec.transform(photo['text'])\n",
    "\n",
    "photo_df = pd.DataFrame(photo_cv.todense(), \n",
    "                          columns=cvec.get_feature_names())\n",
    "\n",
    "photo_df.sum().sort_values(ascending = False).head(10).plot(kind = 'barh');"
   ]
  },
  {
   "cell_type": "code",
   "execution_count": null,
   "metadata": {},
   "outputs": [],
   "source": [
    "#Four of the top ten words appear in both subreddits. This will limit the accuracy I can achieve with my model."
   ]
  },
  {
   "cell_type": "markdown",
   "metadata": {},
   "source": [
    "### Split the data"
   ]
  },
  {
   "cell_type": "code",
   "execution_count": 26,
   "metadata": {},
   "outputs": [],
   "source": [
    "X = reddit['text']\n",
    "y = reddit['subreddit']\n",
    "\n",
    "X_train, X_test, y_train, y_test = train_test_split(X, \n",
    "                                                   y, \n",
    "                                                   random_state = 42,\n",
    "                                                   stratify = y)"
   ]
  },
  {
   "cell_type": "code",
   "execution_count": 27,
   "metadata": {},
   "outputs": [
    {
     "name": "stderr",
     "output_type": "stream",
     "text": [
      "/opt/anaconda3/lib/python3.8/site-packages/sklearn/feature_extraction/text.py:484: UserWarning: The parameter 'token_pattern' will not be used since 'tokenizer' is not None'\n",
      "  warnings.warn(\"The parameter 'token_pattern' will not be used\"\n",
      "/opt/anaconda3/lib/python3.8/site-packages/sklearn/feature_extraction/text.py:383: UserWarning: Your stop_words may be inconsistent with your preprocessing. Tokenizing the stop words generated tokens ['ha', 'le', 'u', 'wa'] not in stop_words.\n",
      "  warnings.warn('Your stop_words may be inconsistent with '\n"
     ]
    }
   ],
   "source": [
    "class LemmaTokenizer(object):\n",
    "    def __init__(self):\n",
    "        self.wnl = WordNetLemmatizer()\n",
    "    def __call__(self, articles):\n",
    "        return [self.wnl.lemmatize(t) for t in word_tokenize(articles)]\n",
    "\n",
    "#count vectorize train and test data\n",
    "lem_cvec = CountVectorizer(lowercase = True,\n",
    "                       strip_accents = 'unicode',\n",
    "                       stop_words = 'english', \n",
    "                       tokenizer = LemmaTokenizer()\n",
    "                       )\n",
    "lem_cvec.fit(X_train)\n",
    "\n",
    "#transform train and test\n",
    "X_train = lem_cvec.transform(X_train)\n",
    "X_test = lem_cvec.transform(X_test)\n",
    "\n",
    "\n",
    "#add lemmatizer to CountVec: https://stackoverflow.com/questions/47423854/sklearn-adding-lemmatizer-to-countvectorizer"
   ]
  },
  {
   "cell_type": "code",
   "execution_count": 28,
   "metadata": {
    "scrolled": true
   },
   "outputs": [
    {
     "data": {
      "image/png": "[encoded data removed]",
      "text/plain": [
       "<Figure size 432x288 with 1 Axes>"
      ]
     },
     "metadata": {
      "needs_background": "light"
     },
     "output_type": "display_data"
    }
   ],
   "source": [
    "#top words for cine/photo combined df:\n",
    "\n",
    "X_train_df = pd.DataFrame(X_train.todense(), \n",
    "                          columns=lem_cvec.get_feature_names())\n",
    "\n",
    "# plot\n",
    "X_train_df.sum().sort_values(ascending = False).head(10).plot(kind = 'barh');"
   ]
  },
  {
   "cell_type": "code",
   "execution_count": 18,
   "metadata": {},
   "outputs": [
    {
     "data": {
      "text/plain": [
       "1    0.826453\n",
       "0    0.173547\n",
       "Name: subreddit, dtype: float64"
      ]
     },
     "execution_count": 18,
     "metadata": {},
     "output_type": "execute_result"
    }
   ],
   "source": [
    "y.value_counts(normalize=True)"
   ]
  },
  {
   "cell_type": "code",
   "execution_count": 19,
   "metadata": {},
   "outputs": [
    {
     "data": {
      "text/plain": [
       "(890, 5788)"
      ]
     },
     "execution_count": 19,
     "metadata": {},
     "output_type": "execute_result"
    }
   ],
   "source": [
    "X_train.shape"
   ]
  },
  {
   "cell_type": "markdown",
   "metadata": {},
   "source": [
    "### Model 1: Random Forest classifier"
   ]
  },
  {
   "cell_type": "code",
   "execution_count": 29,
   "metadata": {},
   "outputs": [],
   "source": [
    "#instantiate model:\n",
    "\n",
    "rf = RandomForestClassifier(random_state = 42)\n",
    "#Grid search over below parameters:\n",
    "params = {\n",
    "    'n_estimators': [50, 100, 200],\n",
    "    'max_features':[450, 475, 500, 525],\n",
    "    'min_samples_leaf': [2]\n",
    "}"
   ]
  },
  {
   "cell_type": "code",
   "execution_count": 61,
   "metadata": {},
   "outputs": [
    {
     "data": {
      "text/plain": [
       "dict_keys(['bootstrap', 'ccp_alpha', 'class_weight', 'criterion', 'max_depth', 'max_features', 'max_leaf_nodes', 'max_samples', 'min_impurity_decrease', 'min_impurity_split', 'min_samples_leaf', 'min_samples_split', 'min_weight_fraction_leaf', 'n_estimators', 'n_jobs', 'oob_score', 'random_state', 'verbose', 'warm_start'])"
      ]
     },
     "execution_count": 61,
     "metadata": {},
     "output_type": "execute_result"
    }
   ],
   "source": [
    "rf.get_params().keys()"
   ]
  },
  {
   "cell_type": "code",
   "execution_count": 30,
   "metadata": {},
   "outputs": [
    {
     "name": "stdout",
     "output_type": "stream",
     "text": [
      "0.9269662921348315\n"
     ]
    },
    {
     "data": {
      "text/plain": [
       "{'max_features': 475, 'min_samples_leaf': 2, 'n_estimators': 50}"
      ]
     },
     "execution_count": 30,
     "metadata": {},
     "output_type": "execute_result"
    }
   ],
   "source": [
    "rf_gs = GridSearchCV(rf, param_grid = params, cv = 5)\n",
    "rf_gs.fit(X_train, y_train)\n",
    "print(rf_gs.best_score_) #cross val score\n",
    "rf_gs.best_params_"
   ]
  },
  {
   "cell_type": "code",
   "execution_count": 31,
   "metadata": {},
   "outputs": [
    {
     "data": {
      "text/plain": [
       "0.9225589225589226"
      ]
     },
     "execution_count": 31,
     "metadata": {},
     "output_type": "execute_result"
    }
   ],
   "source": [
    "preds = rf_gs.predict(X_test)\n",
    "rf_gs.score(X_test, y_test)"
   ]
  },
  {
   "cell_type": "code",
   "execution_count": 42,
   "metadata": {},
   "outputs": [
    {
     "name": "stdout",
     "output_type": "stream",
     "text": [
      "0.9224719101123595\n"
     ]
    },
    {
     "data": {
      "text/plain": [
       "{'max_features': 450, 'min_samples_leaf': 2, 'n_estimators': 200}"
      ]
     },
     "execution_count": 42,
     "metadata": {},
     "output_type": "execute_result"
    }
   ],
   "source": [
    "#Will Extra Tree modeling help my score at all?\n",
    "\n",
    "et = ExtraTreesClassifier(random_state = 42)\n",
    "\n",
    "et_gs = GridSearchCV(et, param_grid = params, cv = 5)\n",
    "et_gs.fit(X_train, y_train)\n",
    "print(et_gs.best_score_)\n",
    "et_gs.best_params_"
   ]
  },
  {
   "cell_type": "code",
   "execution_count": 79,
   "metadata": {},
   "outputs": [
    {
     "data": {
      "text/plain": [
       "0.9090909090909091"
      ]
     },
     "execution_count": 79,
     "metadata": {},
     "output_type": "execute_result"
    }
   ],
   "source": [
    "#Test score\n",
    "\n",
    "et_preds = et_gs.predict(X_test)\n",
    "et_gs.score(X_test, y_test)"
   ]
  },
  {
   "cell_type": "markdown",
   "metadata": {},
   "source": [
    "### Model 2: Bagging"
   ]
  },
  {
   "cell_type": "code",
   "execution_count": 43,
   "metadata": {},
   "outputs": [
    {
     "data": {
      "text/plain": [
       "0.9023569023569024"
      ]
     },
     "execution_count": 43,
     "metadata": {},
     "output_type": "execute_result"
    }
   ],
   "source": [
    "bag = BaggingClassifier(random_state = 42)\n",
    "bag.fit(X_train, y_train)\n",
    "bag.score(X_test, y_test)"
   ]
  },
  {
   "cell_type": "code",
   "execution_count": 82,
   "metadata": {},
   "outputs": [
    {
     "data": {
      "text/plain": [
       "0.9898876404494382"
      ]
     },
     "execution_count": 82,
     "metadata": {},
     "output_type": "execute_result"
    }
   ],
   "source": [
    "bag.score(X_train, y_train)\n",
    "#The best training score, but the most overfit dataset."
   ]
  },
  {
   "cell_type": "markdown",
   "metadata": {},
   "source": [
    "### Model 3: SVM"
   ]
  },
  {
   "cell_type": "code",
   "execution_count": 44,
   "metadata": {},
   "outputs": [],
   "source": [
    "#scale data\n",
    "\n",
    "ss = StandardScaler(with_mean = False)\n",
    "ss_X_train = ss.fit_transform(X_train, y_train)\n",
    "\n",
    "#with mean troubleshooting: https://stackoverflow.com/questions/52008548/python-running-into-x-test-y-test-fit-errors/52009055"
   ]
  },
  {
   "cell_type": "code",
   "execution_count": 45,
   "metadata": {},
   "outputs": [],
   "source": [
    "pgrid = {\"C\": np.linspace(0.0001, 1, 10),\n",
    "        }"
   ]
  },
  {
   "cell_type": "code",
   "execution_count": 47,
   "metadata": {},
   "outputs": [
    {
     "data": {
      "text/plain": [
       "GridSearchCV(cv=StratifiedKFold(n_splits=5, random_state=42, shuffle=True),\n",
       "             estimator=LinearSVC(max_iter=15000),\n",
       "             param_grid={'C': array([1.000e-04, 1.112e-01, 2.223e-01, 3.334e-01, 4.445e-01, 5.556e-01,\n",
       "       6.667e-01, 7.778e-01, 8.889e-01, 1.000e+00])})"
      ]
     },
     "execution_count": 47,
     "metadata": {},
     "output_type": "execute_result"
    }
   ],
   "source": [
    "svc = LinearSVC(max_iter = 7000)\n",
    "\n",
    "#shuffling the dataset, because it is ordered as one subreddit and then the other in the original CSV file and df\n",
    "cv_folds = StratifiedKFold(shuffle = True, random_state = 42)\n",
    "gs = GridSearchCV(svc, pgrid, cv = cv_folds)\n",
    "gs.fit(ss_X_train, y_train)"
   ]
  },
  {
   "cell_type": "code",
   "execution_count": 48,
   "metadata": {},
   "outputs": [
    {
     "data": {
      "text/plain": [
       "{'C': 0.11120000000000001}"
      ]
     },
     "execution_count": 48,
     "metadata": {},
     "output_type": "execute_result"
    }
   ],
   "source": [
    "gs.best_params_"
   ]
  },
  {
   "cell_type": "code",
   "execution_count": 49,
   "metadata": {},
   "outputs": [
    {
     "data": {
      "text/plain": [
       "0.8707865168539325"
      ]
     },
     "execution_count": 49,
     "metadata": {},
     "output_type": "execute_result"
    }
   ],
   "source": [
    "gs.best_score_"
   ]
  },
  {
   "cell_type": "code",
   "execution_count": 83,
   "metadata": {},
   "outputs": [
    {
     "data": {
      "text/plain": [
       "0.8249158249158249"
      ]
     },
     "execution_count": 83,
     "metadata": {},
     "output_type": "execute_result"
    }
   ],
   "source": [
    "preds = gs.predict(X_test)\n",
    "gs.score(X_test, y_test)"
   ]
  },
  {
   "cell_type": "markdown",
   "metadata": {},
   "source": [
    "The best model was Ramdom Forest modeling, without ExtraTrees. I ended with a test score .9225, and given the limitations of two similar subreddits, I am pleased with the results."
   ]
  },
  {
   "cell_type": "markdown",
   "metadata": {},
   "source": [
    "### Which posts could not be classified?"
   ]
  },
  {
   "cell_type": "code",
   "execution_count": 32,
   "metadata": {},
   "outputs": [],
   "source": [
    "#Creating a dataframe of misclassified texts, \n",
    "results = pd.DataFrame({'predicted': preds,\n",
    "                       'actual': y_test})\n",
    "indices = results[results['predicted'] != results['actual']].index\n",
    "\n",
    "#referenced in lesson 6.05: Lesson Support Vector Machines"
   ]
  },
  {
   "cell_type": "code",
   "execution_count": 33,
   "metadata": {},
   "outputs": [
    {
     "data": {
      "text/plain": [
       "Int64Index([1070, 1153,  994, 1001, 1035, 1039, 1018, 1115,  851,  710,  619,\n",
       "            1112, 1080, 1141, 1160, 1111, 1150, 1102, 1186, 1132,  606, 1162,\n",
       "            1064],\n",
       "           dtype='int64')"
      ]
     },
     "execution_count": 33,
     "metadata": {},
     "output_type": "execute_result"
    }
   ],
   "source": [
    "indices"
   ]
  },
  {
   "cell_type": "code",
   "execution_count": 37,
   "metadata": {},
   "outputs": [
    {
     "data": {
      "text/plain": [
       "' Fall Foliage Map amp Nationwide Peak Leaf Forecast  '"
      ]
     },
     "execution_count": 37,
     "metadata": {},
     "output_type": "execute_result"
    }
   ],
   "source": [
    "# Posts that could not be predicted\n",
    "reddit['text'].iloc[1132]"
   ]
  },
  {
   "cell_type": "code",
   "execution_count": 40,
   "metadata": {},
   "outputs": [
    {
     "data": {
      "text/plain": [
       "'Why   few cameras provide Geotagging   just wondering why  not built into any higher grade cameras  can not find any decent new mirror less camera that has Geotagging  would  awesome for travelling'"
      ]
     },
     "execution_count": 40,
     "metadata": {},
     "output_type": "execute_result"
    }
   ],
   "source": [
    "reddit['text'].iloc[1064]"
   ]
  },
  {
   "cell_type": "code",
   "execution_count": 62,
   "metadata": {},
   "outputs": [
    {
     "data": {
      "text/plain": [
       "'Why   lot  popular DPs have  still photography  their websites There seems    affinity   lot  the DPs  like shooting  still photography \\n\\nhttpsrinayangcomstills\\n\\nDeakins prefers   well\\n\\nJust some examples totally aware  the color  her page too Idk maybe  brain  making connections that don actually matter \\n\\nThank you'"
      ]
     },
     "execution_count": 62,
     "metadata": {},
     "output_type": "execute_result"
    }
   ],
   "source": [
    "reddit['text'].iloc[606]"
   ]
  },
  {
   "cell_type": "markdown",
   "metadata": {},
   "source": [
    "The examples above really highlight the limitations of the model. There are examples that even a human wouldn't be able to classify due to lack of context, and examples where context allows us to make assumptions, but the key words we use overlap each subreddit. Idealy with a larger dataset we could weed out some of the errors, but it is unlikely a model could have 100% accuracy on testing data."
   ]
  }
 ],
 "metadata": {
  "kernelspec": {
   "display_name": "Python 3",
   "language": "python",
   "name": "python3"
  },
  "language_info": {
   "codemirror_mode": {
    "name": "ipython",
    "version": 3
   },
   "file_extension": ".py",
   "mimetype": "text/x-python",
   "name": "python",
   "nbconvert_exporter": "python",
   "pygments_lexer": "ipython3",
   "version": "3.8.3"
  }
 },
 "nbformat": 4,
 "nbformat_minor": 4
}
