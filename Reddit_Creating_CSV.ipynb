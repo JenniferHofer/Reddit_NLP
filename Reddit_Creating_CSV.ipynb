{
 "cells": [
  {
   "cell_type": "markdown",
   "metadata": {},
   "source": [
    "## Subreddit Identification Model##"
   ]
  },
  {
   "cell_type": "markdown",
   "metadata": {},
   "source": [
    "The goal of this project is to create a model that can take in a reddit post, and accurately categorize the subreddit it belongs to. \n",
    "\n",
    "The two subreddits I will be using for this are Cinematography, and Photography. These are broad enough to gather a large variety of information, have some intersecting topics, but are unique enough that we should be able to determine with a level of certainty which subreddit a post originated from. We will also be taking a look at what kinds of posts are most difficult to classify."
   ]
  },
  {
   "cell_type": "code",
   "execution_count": 1,
   "metadata": {},
   "outputs": [],
   "source": [
    "import requests\n",
    "import pandas as pd\n",
    "import numpy as np\n",
    "import praw"
   ]
  },
  {
   "cell_type": "markdown",
   "metadata": {},
   "source": [
    "## Gathering the information"
   ]
  },
  {
   "cell_type": "code",
   "execution_count": 2,
   "metadata": {},
   "outputs": [],
   "source": [
    "#structure followed from week 5 PRAW lesson\n",
    "reddit = praw.Reddit(client_id = 'R6ZQo6LefSJlng',    \n",
    "                     client_secret = 'CxtldHqjeepEoYfnLWAdIdP-LIs', \n",
    "                     user_agent = 'pythondemo',    \n",
    "                     username = '*************',      \n",
    "                     password = '*************') "
   ]
  },
  {
   "cell_type": "code",
   "execution_count": 5,
   "metadata": {},
   "outputs": [],
   "source": [
    "sub1 = reddit.subreddit('Cinematography')"
   ]
  },
  {
   "cell_type": "code",
   "execution_count": 6,
   "metadata": {},
   "outputs": [],
   "source": [
    "sub2 = reddit.subreddit('Photography')"
   ]
  },
  {
   "cell_type": "code",
   "execution_count": 7,
   "metadata": {},
   "outputs": [],
   "source": [
    "#Pulling 1000 if the posts with the most interactions from each subreddit\n",
    "\n",
    "cine = sub1.hot(limit = 1000)\n",
    "photo = sub2.hot(limit = 1000)"
   ]
  },
  {
   "cell_type": "code",
   "execution_count": 11,
   "metadata": {},
   "outputs": [],
   "source": [
    "#Creating the subreddit dictionaries\n",
    "\n",
    "#cinematography\n",
    "cine_dict = { \"title\":[],\n",
    "            \"score\":[],\n",
    "             \"id\":[],\n",
    "             \"url\":[], \n",
    "            \"comms_num\": [],\n",
    "            \"created\": [],\n",
    "            \"body\":[]}\n",
    "\n",
    "for item in cine:\n",
    "    cine_dict[\"title\"].append(item.title)\n",
    "    cine_dict[\"score\"].append(item.score)\n",
    "    cine_dict[\"id\"].append(item.id)\n",
    "    cine_dict[\"url\"].append(item.url)\n",
    "    cine_dict[\"comms_num\"].append(item.num_comments)\n",
    "    cine_dict[\"created\"].append(item.created)\n",
    "    cine_dict[\"body\"].append(item.selftext)\n",
    "    \n",
    "#Photography    \n",
    "photo_dict = { \"title\":[],\n",
    "            \"score\":[],\n",
    "             \"id\":[],\n",
    "             \"url\":[], \n",
    "            \"comms_num\": [],\n",
    "            \"created\": [],\n",
    "            \"body\":[]}\n",
    "\n",
    "for item in photo:\n",
    "    photo_dict[\"title\"].append(item.title)\n",
    "    photo_dict[\"score\"].append(item.score)\n",
    "    photo_dict[\"id\"].append(item.id)\n",
    "    photo_dict[\"url\"].append(item.url)\n",
    "    photo_dict[\"comms_num\"].append(item.num_comments)\n",
    "    photo_dict[\"created\"].append(item.created)\n",
    "    photo_dict[\"body\"].append(item.selftext)"
   ]
  },
  {
   "cell_type": "code",
   "execution_count": 13,
   "metadata": {},
   "outputs": [],
   "source": [
    "#Converting to DataFrames\n",
    "cine = pd.DataFrame(cine_dict)\n",
    "photo = pd.DataFrame(photo_dict)"
   ]
  },
  {
   "cell_type": "code",
   "execution_count": 14,
   "metadata": {},
   "outputs": [],
   "source": [
    "#Adding columns to distinguish subreddits\n",
    "cine['subreddit'] = 'Cinematography'\n",
    "photo['subreddit'] = 'Photography'"
   ]
  },
  {
   "cell_type": "code",
   "execution_count": 15,
   "metadata": {},
   "outputs": [],
   "source": [
    "#concatenate DataFrames together\n",
    "cine_photo = pd.concat([cine, photo])"
   ]
  },
  {
   "cell_type": "code",
   "execution_count": 19,
   "metadata": {},
   "outputs": [],
   "source": [
    "#Export to CSV\n",
    "cine_photo.to_csv('cine_photo.csv', index = False)"
   ]
  },
  {
   "cell_type": "markdown",
   "metadata": {},
   "source": [
    "#### See 'Reddit_Modeling_Data' for data cleaning, visualization, and modeling."
   ]
  }
 ],
 "metadata": {
  "kernelspec": {
   "display_name": "Python 3",
   "language": "python",
   "name": "python3"
  },
  "language_info": {
   "codemirror_mode": {
    "name": "ipython",
    "version": 3
   },
   "file_extension": ".py",
   "mimetype": "text/x-python",
   "name": "python",
   "nbconvert_exporter": "python",
   "pygments_lexer": "ipython3",
   "version": "3.8.3"
  }
 },
 "nbformat": 4,
 "nbformat_minor": 4
}
